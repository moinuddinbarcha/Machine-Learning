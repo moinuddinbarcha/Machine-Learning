{
  "nbformat": 4,
  "nbformat_minor": 0,
  "metadata": {
    "colab": {
      "provenance": []
    },
    "kernelspec": {
      "name": "python3",
      "display_name": "Python 3"
    },
    "language_info": {
      "name": "python"
    }
  },
  "cells": [
    {
      "cell_type": "markdown",
      "source": [
        "**MACHINE LEARNING**"
      ],
      "metadata": {
        "id": "rFnCFNY3H1bY"
      }
    },
    {
      "cell_type": "code",
      "source": [
        "# MAKINKIG THE COMPUTER TO LEARN FROM SDUDING DATA AND STATISTICS\n",
        "# step into the direction of ai\n",
        "# its a program that analysis data and learn to pridict the outcomes\n",
        "\n"
      ],
      "metadata": {
        "id": "h0GWn41yH-TT"
      },
      "execution_count": null,
      "outputs": []
    },
    {
      "cell_type": "markdown",
      "source": [
        "DATA TYPE OF MACHINE LEARNING"
      ],
      "metadata": {
        "id": "z2fcXSpVIvHq"
      }
    },
    {
      "cell_type": "code",
      "source": [
        "#NUMERICAL:Data are no and  can be split two numerical catogories\n",
        "# discrete data:no of cars bassing by\n",
        "# continuous data:the price of an item and the size of item\n",
        "\n",
        "#CATAGORICAL DATA:are value that cannot be measure up against eachother\n",
        "#eg: color value or any yes/no values\n",
        "\n",
        "#ordinal data:can be measure against eachother\n",
        "#eg:school grades where A is better than B and so on\n"
      ],
      "metadata": {
        "id": "lTrJChccI1dW"
      },
      "execution_count": null,
      "outputs": []
    },
    {
      "cell_type": "markdown",
      "source": [
        "**MEAN VALUE MEADIAN AND MODE**"
      ],
      "metadata": {
        "id": "goRdLm64G4xU"
      }
    },
    {
      "cell_type": "code",
      "source": [
        "# meAn:average value\n",
        "#median:midpoint value\n",
        "# mode:most common value\n",
        "\n",
        "import numpy as np\n",
        "score=[56,78,90,67,40,65]\n",
        "x=np.mean(score)\n",
        "print(x,\"average\")\n",
        "print()\n",
        "\n",
        "\n",
        "import numpy as np\n",
        "score=[56,78,90,67,40,65]\n",
        "x=np.median(score)\n",
        "print(x,\"average\")\n",
        "print()\n",
        "from scipy import  stats\n",
        "score=[56,78,35,67,40,65]\n",
        "x=stats.mode(score)\n",
        "print(x,\"average\")\n",
        "\n",
        "\n",
        "\n"
      ],
      "metadata": {
        "colab": {
          "base_uri": "https://localhost:8080/"
        },
        "id": "KHpQWxnuKxBh",
        "outputId": "6b5b1b35-7d7b-4483-a6a4-4578876aaaf4"
      },
      "execution_count": null,
      "outputs": [
        {
          "output_type": "stream",
          "name": "stdout",
          "text": [
            "66.0 average\n",
            "\n",
            "66.0 average\n",
            "\n",
            "ModeResult(mode=35, count=1) average\n"
          ]
        }
      ]
    },
    {
      "cell_type": "markdown",
      "source": [
        "**STANDERRED DEVIATION**"
      ],
      "metadata": {
        "id": "dKMgTTO6MyHY"
      }
    },
    {
      "cell_type": "code",
      "source": [
        "# is a no that discribes how spread out the values are\n",
        "# std\n",
        "#high standered\n",
        "\n",
        "import numpy as np\n",
        "score=[87,86,85,111,130,84,93,82,90]\n",
        "x=np.std(score)\n",
        "print(x)\n"
      ],
      "metadata": {
        "colab": {
          "base_uri": "https://localhost:8080/"
        },
        "id": "mUT_eG7dLrQo",
        "outputId": "d51e422c-9c06-498e-f327-dd26a308163a"
      },
      "execution_count": null,
      "outputs": [
        {
          "output_type": "stream",
          "name": "stdout",
          "text": [
            "15.053812937279954\n"
          ]
        }
      ]
    },
    {
      "cell_type": "markdown",
      "source": [
        "** ML PERCENTILES**"
      ],
      "metadata": {
        "id": "70KsRTaUOG0x"
      }
    },
    {
      "cell_type": "code",
      "source": [
        "import numpy as np\n",
        "age=[5,10,31,43,21,21,4,35,6,78]\n",
        "x=np.percentile(age, 80)\n",
        "print(x)\n"
      ],
      "metadata": {
        "colab": {
          "base_uri": "https://localhost:8080/"
        },
        "id": "PtzYTyKzNnQc",
        "outputId": "88bbd142-2b8a-4e4e-9e32-3573c70488a3"
      },
      "execution_count": null,
      "outputs": [
        {
          "output_type": "stream",
          "name": "stdout",
          "text": [
            "36.6\n"
          ]
        }
      ]
    },
    {
      "cell_type": "markdown",
      "source": [
        "**DATA DISTRIBUTION**"
      ],
      "metadata": {
        "id": "iiXtvUYfPK-U"
      }
    },
    {
      "cell_type": "code",
      "source": [
        "import numpy as np\n",
        "import matplotlib.pyplot as plt\n",
        "x=np.random.uniform(0.1,5,120)\n",
        "print(x)\n",
        "plt.hist(x,10)\n",
        "plt.show()"
      ],
      "metadata": {
        "colab": {
          "base_uri": "https://localhost:8080/",
          "height": 799
        },
        "id": "xHXIL-oDO5Iw",
        "outputId": "489f005b-040a-4809-d8a7-2743f8bf5e3d"
      },
      "execution_count": null,
      "outputs": [
        {
          "output_type": "stream",
          "name": "stdout",
          "text": [
            "[3.06883605 2.09786742 0.8868673  1.50349299 0.78357105 1.83774492\n",
            " 3.78651474 2.06717408 4.1941181  1.85100083 4.63623471 1.91329547\n",
            " 3.62346146 2.82061892 3.76458193 2.11953513 2.26122477 3.05140883\n",
            " 4.68824193 2.68829098 3.93654409 4.56598396 2.73862068 1.24901847\n",
            " 1.07536291 3.8677505  2.94504078 1.3942991  4.77292273 4.68180073\n",
            " 4.53133656 0.55681678 3.81601205 0.26912261 3.09565291 3.2078455\n",
            " 4.25660701 2.88790781 2.01842972 0.60121473 0.8573694  4.93222102\n",
            " 4.29788801 4.82875914 1.71297712 4.88382068 0.19228432 4.37792674\n",
            " 0.13062492 3.41110971 2.48491105 1.98888378 2.2131845  3.37551575\n",
            " 3.31657159 4.23141251 1.66450083 1.38351191 2.01028558 4.19474933\n",
            " 4.4226379  3.29796787 2.02785311 2.13182725 0.74016026 3.23159446\n",
            " 0.29022672 2.93325197 1.61166203 1.83749661 4.11839668 2.06064002\n",
            " 2.58142358 0.10130664 0.20789852 4.20851063 0.36207729 1.21305056\n",
            " 1.85414219 0.64043294 2.18063638 0.39866739 2.10833747 3.28107844\n",
            " 2.96049689 0.3710627  0.91243291 2.58392263 0.94730869 2.44282463\n",
            " 4.65360049 2.81782024 3.59311813 3.35222103 3.10702451 2.75906863\n",
            " 3.57569688 1.01503382 1.25772809 2.87301503 2.61100816 3.4635932\n",
            " 2.13051186 2.09711406 2.9697841  4.71035381 0.62465995 0.33471924\n",
            " 2.99506649 3.6724856  2.29028199 2.97187051 0.22681195 0.94278358\n",
            " 0.8996378  4.29467875 4.88075215 3.70721154 0.64233375 1.55476291]\n"
          ]
        },
        {
          "output_type": "display_data",
          "data": {
            "text/plain": [
              "<Figure size 640x480 with 1 Axes>"
            ],
            "image/png": "[encoded data removed]"
          },
          "metadata": {}
        }
      ]
    },
    {
      "cell_type": "markdown",
      "source": [
        "** NORMAL DATA DISTRIBUTION**"
      ],
      "metadata": {
        "id": "J6B6C23KRIwt"
      }
    },
    {
      "cell_type": "code",
      "source": [
        "import numpy as np\n",
        "import matplotlib.pyplot as plt\n",
        "import pandas as pd\n",
        "\n",
        "x=np.random.normal(0.1,5,120)\n",
        "print(x)\n",
        "plt.hist(x,100)\n",
        "plt.show()"
      ],
      "metadata": {
        "colab": {
          "base_uri": "https://localhost:8080/",
          "height": 873
        },
        "id": "1Fw-R9QZPmx-",
        "outputId": "d2768c36-395c-49a8-be84-47b92c8cb382"
      },
      "execution_count": null,
      "outputs": [
        {
          "output_type": "stream",
          "name": "stdout",
          "text": [
            "[ -5.29553951   1.39220093   2.08725565  -1.4615567   -4.88733545\n",
            " -13.92420564  -7.72825725  -2.64595648  -4.70692614  -4.06008857\n",
            "   0.48342115  -0.10171957  -6.32996204  -3.08557492  -0.08411813\n",
            "   5.862385    -8.36798507  -4.89067361   2.74162428   1.68148122\n",
            "   5.60388348   1.63276837   5.86525444  -7.91519047  -2.82029867\n",
            "  -0.55858509  -0.07439078   1.40662334 -10.57284166   0.29579887\n",
            "   8.35326097   4.25423963   1.0002078    1.11825092  -7.56925504\n",
            "   7.40351557  -2.70191431  -7.73077021   2.92617855  -5.97947886\n",
            "  -2.29470825  -1.12343987   9.38864573  -2.1562298   -0.95244765\n",
            "  -0.63226685  -1.9463143   -1.10500718  -1.93180899   8.43125529\n",
            "   9.27580338   6.34693913  -6.98457733  -4.27481413   0.55472254\n",
            "  -5.14063929   5.29579458  -3.2382722   10.68758892  -3.31163773\n",
            "  -2.67822139   7.19870025   0.25315162 -11.40086938  -0.38426027\n",
            "   4.64781352  -8.13005332   3.33694827  -2.14989067   0.02335697\n",
            "   6.87884819  -3.27032519   9.40418486   6.27142026   3.60080713\n",
            "   1.97000937   2.24654921  -0.98523711   7.98407016  -2.59087347\n",
            "   4.28624418   9.32528393   7.90260908  -5.4248931   -4.20691559\n",
            "  -8.00043581   5.40802835   0.75113313  -4.99256715   7.19237612\n",
            "  -1.12237217  -2.48480257   7.69325157  -4.72107705   5.27104083\n",
            "  -4.49517836   2.09996766  -0.55405533 -11.30539478  -4.1296395\n",
            "  -5.45827498   6.14834942  -1.77580264  -3.96128708  -6.73406611\n",
            "  -4.97069015  -7.95098849  -0.05713291   1.85909621  -1.02723256\n",
            "   1.86341738  -3.23522425   4.05959487   7.21442752   1.34308557\n",
            "   3.00948455  -8.65748476  -2.91433588   4.29036134   3.70975564]\n"
          ]
        },
        {
          "output_type": "display_data",
          "data": {
            "text/plain": [
              "<Figure size 640x480 with 1 Axes>"
            ],
            "image/png": "[encoded data removed]"
          },
          "metadata": {}
        }
      ]
    },
    {
      "cell_type": "markdown",
      "source": [
        "**scatterplot**"
      ],
      "metadata": {
        "id": "DnUFa0EER3N1"
      }
    },
    {
      "cell_type": "code",
      "source": [
        "# each value of data represented by dot\n",
        "\n",
        "import matplotlib.pyplot as plt\n",
        "\n",
        "age=[10,12,14,16,18,20,22,24]\n",
        "score=[101,121,141,161,181,201,101,241]\n",
        "plt.scatter(age,score)\n",
        "plt.show()\n",
        "\n"
      ],
      "metadata": {
        "colab": {
          "base_uri": "https://localhost:8080/",
          "height": 430
        },
        "id": "3aUOEU1MR-l4",
        "outputId": "68fa7f68-53b7-4ddd-9a70-6ab95a0b6c96"
      },
      "execution_count": null,
      "outputs": [
        {
          "output_type": "display_data",
          "data": {
            "text/plain": [
              "<Figure size 640x480 with 1 Axes>"
            ],
            "image/png": "[encoded data removed]"
          },
          "metadata": {}
        }
      ]
    },
    {
      "cell_type": "code",
      "source": [
        "import numpy as np\n",
        "import matplotlib.pyplot as plt\n",
        "x=np.random.normal(2,5,250)\n",
        "y=np.random.normal(2,5,250)\n",
        "plt.scatter(x,y)\n",
        "plt.show()\n"
      ],
      "metadata": {
        "id": "d12e-TkSSnHN",
        "colab": {
          "base_uri": "https://localhost:8080/",
          "height": 430
        },
        "outputId": "345df251-f93e-4f19-a463-5b41a355568e"
      },
      "execution_count": null,
      "outputs": [
        {
          "output_type": "display_data",
          "data": {
            "text/plain": [
              "<Figure size 640x480 with 1 Axes>"
            ],
            "image/png": "[encoded data removed]"
          },
          "metadata": {}
        }
      ]
    },
    {
      "cell_type": "markdown",
      "source": [
        "**LINEAR REGRESSION**"
      ],
      "metadata": {
        "id": "8N-1mjSNVOCC"
      }
    },
    {
      "cell_type": "code",
      "source": [
        "# find the relationship b/w variables\n",
        "# in ML the realationship is used to pridict the outcomes of fiture event\n",
        "#use the relationshio b/w the data point to draw a straight line through all of the this line used to pridict future values\n",
        "\n",
        "import matplotlib.pyplot as plt\n",
        "import scipy as ststs\n",
        "\n",
        "age=[10,12,14,16,18,20,22,24]\n",
        "score=[111,131,121,161,381,201,101,241]\n",
        "\n",
        "slope, intercept, r,p, std_err=stats.linregress(age,score)# crate a func that uses the slope and intercept values to return new value this new value represents where on the y_axis in the crossponding value will be placed\n",
        "def myfunc(age):\n",
        "  return slope * age + intercept# r for relationship\n",
        "mymodel=list(map(myfunc, age))\n",
        "plt.scatter(age,score)\n",
        "plt.plot(age,mymodel)\n",
        "plt.show()"
      ],
      "metadata": {
        "colab": {
          "base_uri": "https://localhost:8080/",
          "height": 430
        },
        "id": "9TkLDMHZVXDQ",
        "outputId": "e3da7bb3-8c5d-4155-e710-929c5bf597ba"
      },
      "execution_count": null,
      "outputs": [
        {
          "output_type": "display_data",
          "data": {
            "text/plain": [
              "<Figure size 640x480 with 1 Axes>"
            ],
            "image/png": "[encoded data removed]"
          },
          "metadata": {}
        }
      ]
    },
    {
      "cell_type": "code",
      "source": [
        "import matplotlib.pyplot as plt\n",
        "from scipy import stats\n",
        "\n",
        "age=[10,12,14,16,18,20,22,24]\n",
        "score=[111,131,121,161,381,201,101,241]\n",
        "\n",
        "slope, intercept, r,p, std_err=stats.linregress(age,score)\n",
        "print(r)"
      ],
      "metadata": {
        "colab": {
          "base_uri": "https://localhost:8080/"
        },
        "id": "X3lXu0jXXqZM",
        "outputId": "f3768dfa-b1d9-4b12-e10d-f393baafa317"
      },
      "execution_count": null,
      "outputs": [
        {
          "output_type": "stream",
          "name": "stdout",
          "text": [
            "0.3786264523846281\n"
          ]
        }
      ]
    },
    {
      "cell_type": "markdown",
      "source": [
        "**POLYNOMIAL REGRESSION**"
      ],
      "metadata": {
        "id": "G83hBCrxaHDT"
      }
    },
    {
      "cell_type": "code",
      "source": [
        "import matplotlib.pyplot as plt\n",
        "x=[1,2,3,4,5,6,7,8,9,10,11,12,13,14,15,16,17,18,19,20,21,22]\n",
        "y=[100,90,80,60,65,55,60,70,70,75,76,78,79,90,99,99,100,17,18,166,43,24]\n",
        "plt.scatter(x , y)\n",
        "plt.show()\n",
        "\n"
      ],
      "metadata": {
        "colab": {
          "base_uri": "https://localhost:8080/",
          "height": 430
        },
        "id": "ztmBBrXSZtZq",
        "outputId": "570ed775-9434-4e3d-e4a1-5c72d26b7163"
      },
      "execution_count": null,
      "outputs": [
        {
          "output_type": "display_data",
          "data": {
            "text/plain": [
              "<Figure size 640x480 with 1 Axes>"
            ],
            "image/png": "[encoded data removed]"
          },
          "metadata": {}
        }
      ]
    },
    {
      "cell_type": "code",
      "source": [
        "import matplotlib.pyplot as plt\n",
        "import numpy as np\n",
        "import scipy as stats\n",
        "from sklearn.metrics import r2_score\n",
        "x=[1,2,3,4,5,6,7,8,9,10,11,12,13,14,15,16,17,18,19,20,21,22]\n",
        "y=[100,90,80,60,65,55,60,70,70,75,76,78,79,90,99,99,100,17,18,166,43,24]\n",
        "mymodel=np.poly1d(np.polyfit(x,y,3))\n",
        "myline= np.linspace(1,22,166)\n",
        "\n",
        "plt.scatter(x , y)\n",
        "plt.plot(myline, mymodel(myline))\n",
        "plt.show()\n"
      ],
      "metadata": {
        "colab": {
          "base_uri": "https://localhost:8080/",
          "height": 430
        },
        "id": "diGYS-CjbSTm",
        "outputId": "219057b7-598d-419b-fdf1-95ff90262576"
      },
      "execution_count": null,
      "outputs": [
        {
          "output_type": "display_data",
          "data": {
            "text/plain": [
              "<Figure size 640x480 with 1 Axes>"
            ],
            "image/png": "[encoded data removed]"
          },
          "metadata": {}
        }
      ]
    },
    {
      "cell_type": "code",
      "source": [
        "import matplotlib.pyplot as plt\n",
        "import numpy as np\n",
        "import scipy as stats\n",
        "from sklearn.metrics import r2_score\n",
        "x=[1,2,3,4,5,6,7,8,9,10,11,12,13,14,15,16,17,18,19,20,21,22]\n",
        "y=[100,90,80,60,65,55,60,70,70,75,76,78,79,90,99,99,100,17,18,166,43,24]\n",
        "mymodel=np.poly1d(np.polyfit(x,y,3))\n",
        "\n",
        "print(r2_score(x,mymodel(y)))\n"
      ],
      "metadata": {
        "colab": {
          "base_uri": "https://localhost:8080/"
        },
        "id": "K8lnAKYRcJIl",
        "outputId": "d2371aa0-9609-4400-ba5c-19187c7f688b"
      },
      "execution_count": null,
      "outputs": [
        {
          "output_type": "stream",
          "name": "stdout",
          "text": [
            "-71590654.78432877\n"
          ]
        }
      ]
    },
    {
      "cell_type": "code",
      "source": [
        "import matplotlib.pyplot as plt\n",
        "import numpy as np\n",
        "import scipy as stats\n",
        "from sklearn.metrics import r2_score\n",
        "x=[1,2,3,4,5,6,7,8,9,10,11,12,13,14,15,16,17,18,19,20,21,22]\n",
        "y=[100,90,80,60,65,55,60,70,70,75,76,78,79,90,99,99,100,17,18,166,43,24]\n",
        "mymodel=np.poly1d(np.polyfit(x,y,3))\n",
        "\n",
        "speed=mymodel(17)\n",
        "print(speed)"
      ],
      "metadata": {
        "colab": {
          "base_uri": "https://localhost:8080/"
        },
        "id": "oCWkgjDqdXHd",
        "outputId": "2563a432-054d-4cb3-995c-67861ed4d2cd"
      },
      "execution_count": null,
      "outputs": [
        {
          "output_type": "stream",
          "name": "stdout",
          "text": [
            "84.94995690808034\n"
          ]
        }
      ]
    },
    {
      "cell_type": "markdown",
      "source": [
        "**MULTIPLE REGRESSION**"
      ],
      "metadata": {
        "id": "Icf6IBRLePYU"
      }
    },
    {
      "cell_type": "code",
      "source": [
        "import pandas as pd\n",
        "from sklearn import linear_model\n",
        "df=pd.read_csv('/content/drive/MyDrive/TrafficTwoMonth.csv')\n",
        "print(df.to_string)\n",
        "x=df[['BikeCount', 'BusCount']]\n",
        "y=df['CarCount']\n",
        "regr=linear_model.LinearRegression()\n",
        "regr.fit(x,y)\n",
        "predictedCarCount=regr.predict([[4,1]])\n",
        "print(predictedCarCount)"
      ],
      "metadata": {
        "colab": {
          "base_uri": "https://localhost:8080/"
        },
        "id": "GgMqbQ5Od8mP",
        "outputId": "edf2c6ca-1141-4775-d2e2-d66203a0faf7"
      },
      "execution_count": null,
      "outputs": [
        {
          "output_type": "stream",
          "name": "stdout",
          "text": [
            "<bound method DataFrame.to_string of              Time  Date Day of the week  CarCount  BikeCount  BusCount  \\\n",
            "0     12:00:00 AM    10         Tuesday        13          2         2   \n",
            "1     12:15:00 AM    10         Tuesday        14          1         1   \n",
            "2     12:30:00 AM    10         Tuesday        10          2         2   \n",
            "3     12:45:00 AM    10         Tuesday        10          2         2   \n",
            "4      1:00:00 AM    10         Tuesday        11          2         1   \n",
            "...           ...   ...             ...       ...        ...       ...   \n",
            "5947  10:45:00 PM     9        Thursday        16          3         1   \n",
            "5948  11:00:00 PM     9        Thursday        11          0         1   \n",
            "5949  11:15:00 PM     9        Thursday        15          4         1   \n",
            "5950  11:30:00 PM     9        Thursday        16          5         0   \n",
            "5951  11:45:00 PM     9        Thursday        14          3         1   \n",
            "\n",
            "      TruckCount  Total Traffic Situation  \n",
            "0             24     41            normal  \n",
            "1             36     52            normal  \n",
            "2             32     46            normal  \n",
            "3             36     50            normal  \n",
            "4             34     48            normal  \n",
            "...          ...    ...               ...  \n",
            "5947          36     56            normal  \n",
            "5948          30     42            normal  \n",
            "5949          25     45            normal  \n",
            "5950          27     48            normal  \n",
            "5951          15     33               low  \n",
            "\n",
            "[5952 rows x 9 columns]>\n",
            "[33.9043598]\n"
          ]
        },
        {
          "output_type": "stream",
          "name": "stderr",
          "text": [
            "/usr/local/lib/python3.10/dist-packages/sklearn/base.py:439: UserWarning: X does not have valid feature names, but LinearRegression was fitted with feature names\n",
            "  warnings.warn(\n"
          ]
        }
      ]
    },
    {
      "cell_type": "code",
      "source": [],
      "metadata": {
        "id": "dwyAAW-Tk93I"
      },
      "execution_count": null,
      "outputs": []
    }
  ]
}